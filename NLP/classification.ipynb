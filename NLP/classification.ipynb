{
 "cells": [
  {
   "cell_type": "markdown",
   "metadata": {},
   "source": [
    "# Natural Language Processing\n",
    "#### Author Name: Kishore Sudhir\n",
    "\n",
    "Date: 02/10/2023\n",
    "\n",
    "Version: 1.0\n",
    "\n",
    "Environment: Python 3 and Jupyter notebook\n",
    "\n",
    "Libraries used:\n",
    "* nltk\n",
    "* pandas\n",
    "* matplotlib\n",
    "* seaborn\n",
    "* numpy\n",
    "* sklearn\n",
    "* itertools\n",
    "* gensim\n",
    "\n",
    "## Introduction\n",
    "This file investigates job advertisement text analysis, covering Tasks 2 and 3. Task 2 focuses on creating varied feature representations for job advertisement descriptions. This involves constructing Count vectors based on the Task 1 vocabulary and utilising popular language model Word2Vec or any other pretrained models) to create both unweighted and TF-IDF weighted vector representations. \n",
    "\n",
    "The third and most important task in the project is the categorisation of job advertisements. Machine learning model logistic regression is used to answer two important issues. First, the performance of several language models and feature representations is evaluated. Second, the influence of including extra information, such as job titles, in the categorisation process is studied. The goal of navigating these problems is to discover optimum techniques for job advertisement categorisation and to emphasise the importance of feature selection in text analysis.\n",
    "\n",
    "\n"
   ]
  },
  {
   "cell_type": "markdown",
   "metadata": {},
   "source": [
    "## Importing libraries "
   ]
  },
  {
   "cell_type": "code",
   "execution_count": 1,
   "metadata": {},
   "outputs": [],
   "source": [
    "# Code to import libraries as you need in this assessment, e.g.,\n",
    "from nltk.probability import *\n",
    "from itertools import chain\n",
    "from nltk.stem import WordNetLemmatizer\n",
    "from nltk.util import ngrams\n",
    "import re\n",
    "from sklearn.feature_extraction.text import CountVectorizer\n",
    "from sklearn.feature_extraction.text import TfidfVectorizer\n",
    "import pandas as pd\n",
    "import numpy as np\n",
    "import matplotlib.pyplot as plt \n",
    "from itertools import islice\n",
    "import gensim.downloader as api\n",
    "from sklearn.manifold import TSNE\n",
    "from sklearn.model_selection import train_test_split\n",
    "from gensim.corpora import Dictionary\n",
    "from gensim.models.tfidfmodel import TfidfModel\n",
    "from gensim.matutils import sparse2full\n",
    "from gensim.models import TfidfModel\n",
    "from gensim.corpora import Dictionary\n",
    "from sklearn.model_selection import KFold\n"
   ]
  },
  {
   "cell_type": "markdown",
   "metadata": {},
   "source": [
    "## Task 2. Generating Feature Representations for Job Advertisement Descriptions"
   ]
  },
  {
   "cell_type": "markdown",
   "metadata": {},
   "source": [
    "Let's start with reading the stored files form task 1"
   ]
  },
  {
   "cell_type": "code",
   "execution_count": 2,
   "metadata": {},
   "outputs": [],
   "source": [
    "with open(\"generated_features/descriptions.txt\") as f:\n",
    "    # tk_descriptions = f.read().splitlines()\n",
    "    tk_descriptions = [line.strip() for line in f.read().splitlines()] # to remove \\n in the last word\n",
    "\n",
    "\n",
    "with open(\"generated_features/industry.txt\") as f:\n",
    "    industry = f.read().splitlines()\n",
    "\n",
    "with open(\"generated_features/web_index.txt\") as f:\n",
    "    web_index = f.read().splitlines()\n"
   ]
  },
  {
   "cell_type": "markdown",
   "metadata": {},
   "source": [
    "`tk_descriptions` stores  processed description data"
   ]
  },
  {
   "cell_type": "code",
   "execution_count": 3,
   "metadata": {},
   "outputs": [
    {
     "data": {
      "text/plain": [
       "'accountant partqualified south east london manufacturing requirement accountant permanent modern offices south east london credit control purchase ledger daily collection debts phone letter email handling ledger accounts handling accounts negotiating payment terms cash reconciliation accounts adhoc administration duties person ideal previous credit control capacity possess exceptional part fully qualified accountant considered'"
      ]
     },
     "execution_count": 3,
     "metadata": {},
     "output_type": "execute_result"
    }
   ],
   "source": [
    "tk_descriptions[0]"
   ]
  },
  {
   "cell_type": "markdown",
   "metadata": {},
   "source": [
    "Read the stored vocabulary into `vocab`and `vocab_index`\n",
    "\n",
    "`vocab` copies only words   \n",
    "`vocab_index` takes the word_string:word_integer_index format "
   ]
  },
  {
   "cell_type": "code",
   "execution_count": 4,
   "metadata": {},
   "outputs": [
    {
     "name": "stdout",
     "output_type": "stream",
     "text": [
      "['aap', 'aaron', 'aat', 'abb', 'abenefit']\n"
     ]
    }
   ],
   "source": [
    "# reading our vocab\n",
    "\n",
    "vocab = []\n",
    "vocab_index = {}\n",
    "\n",
    "with open(\"generated_features/vocab.txt\") as f:\n",
    "    for line in f:\n",
    "        # Split the line by ':' to separate word and index\n",
    "        parts = line.strip().split(':')\n",
    "        if len(parts) == 2:\n",
    "            word, index = parts[0], int(parts[1])\n",
    "            vocab.append(word)\n",
    "            vocab_index[word] = index\n",
    "\n",
    "# Now, vocab contains the list of words, and vocab_index contains the word-to-index mapping\n",
    "print(vocab[0:5])\n",
    "vocabcopy = vocab\n",
    "# print(vocab_index)"
   ]
  },
  {
   "cell_type": "code",
   "execution_count": 5,
   "metadata": {},
   "outputs": [
    {
     "name": "stdout",
     "output_type": "stream",
     "text": [
      "aap: 0\n",
      "aaron: 1\n",
      "aat: 2\n",
      "abb: 3\n",
      "abenefit: 4\n",
      "aberdeen: 5\n",
      "abi: 6\n",
      "abilities: 7\n",
      "abreast: 8\n",
      "abroad: 9\n"
     ]
    }
   ],
   "source": [
    "\n",
    "sample_size = 10\n",
    "\n",
    "sample_dict = dict(islice(vocab_index.items(), sample_size))\n",
    "\n",
    "# Print the first sample_size key-value pairs\n",
    "for key, value in sample_dict.items():\n",
    "    print(f'{key}: {value}') # first 10 in vocab_index\n",
    "\n",
    "# to see full size, uncomment below\n",
    "# print(vocab_index)"
   ]
  },
  {
   "cell_type": "markdown",
   "metadata": {},
   "source": [
    "Few useful functions are defined for the repeated operation"
   ]
  },
  {
   "cell_type": "code",
   "execution_count": 6,
   "metadata": {},
   "outputs": [],
   "source": [
    "def gen_words(tk_features):\n",
    "    \"\"\"Function to flatten a list of tokenized features into a list of words.\n",
    "\n",
    "    \"\"\"\n",
    "    return list(chain.from_iterable(tk_descriptions))"
   ]
  },
  {
   "cell_type": "code",
   "execution_count": 7,
   "metadata": {},
   "outputs": [],
   "source": [
    "def split_token(tk_features):\n",
    "    \"\"\"\n",
    "    Function to split tokenized features, represented as strings with words separated by spaces, into lists of words.\n",
    "    \"\"\"\n",
    "    return [feat.split(\" \") for feat in tk_features]"
   ]
  },
  {
   "cell_type": "code",
   "execution_count": 8,
   "metadata": {},
   "outputs": [],
   "source": [
    "def join_token(tk_features):\n",
    "    \"\"\"\n",
    "    Function to join tokenized features, represented as lists of words, into strings with words separated by spaces.\n",
    "    \"\"\"\n",
    "    return [' '.join(feat) for feat in tk_features]\n",
    "    "
   ]
  },
  {
   "cell_type": "markdown",
   "metadata": {},
   "source": [
    "Verifying whether the lengths are matching is of utmost importance."
   ]
  },
  {
   "cell_type": "code",
   "execution_count": 9,
   "metadata": {},
   "outputs": [
    {
     "data": {
      "text/plain": [
       "(776, 776, 776)"
      ]
     },
     "execution_count": 9,
     "metadata": {},
     "output_type": "execute_result"
    }
   ],
   "source": [
    "len(tk_descriptions),len(industry),len(web_index)"
   ]
  },
  {
   "cell_type": "markdown",
   "metadata": {},
   "source": [
    "phew!  \n",
    "They are fine :)"
   ]
  },
  {
   "cell_type": "code",
   "execution_count": 10,
   "metadata": {},
   "outputs": [],
   "source": [
    "def stats_print(tk_descriptions):\n",
    "    \"\"\"\n",
    "    Function to print few stats of the given tokenized feature.\n",
    "\n",
    "    NOTE:\n",
    "    This function is taken from week 7 lab exercise, with very little changes\n",
    "    \"\"\"\n",
    "    words = gen_words(tk_descriptions)\n",
    "    vocab = set(words)\n",
    "    lexical_diversity = len(vocab)/len(words)\n",
    "    print(\"Vocabulary size: \",len(vocab))\n",
    "    print(\"Total number of tokens: \", len(words))\n",
    "    print(\"Lexical diversity: \", lexical_diversity)\n",
    "    print(\"Total number of description:\", len(tk_descriptions))\n",
    "    lens = [len(article) for article in tk_descriptions]\n",
    "    print(\"Average description length:\", np.mean(lens))\n",
    "    print(\"Maximun description length:\", np.max(lens))\n",
    "    print(\"Minimun description length:\", np.min(lens))\n",
    "    print(\"Standard deviation of description length:\", np.std(lens))"
   ]
  },
  {
   "cell_type": "code",
   "execution_count": 11,
   "metadata": {
    "scrolled": true
   },
   "outputs": [],
   "source": [
    "ind = 7\n",
    "tk_descriptions = split_token(tk_descriptions) # tokenizing based on words, \" \" based"
   ]
  },
  {
   "cell_type": "code",
   "execution_count": 12,
   "metadata": {},
   "outputs": [
    {
     "name": "stdout",
     "output_type": "stream",
     "text": [
      "['recruit', 'experienced', 'purchase', 'ledger', 'clerk', 'covering', 'maternity', 'february', 'mid', 'year', 'ideal', 'immediately', 'duties', 'responsibilities', 'limited', 'ledger', 'input', 'cheques', 'bacs', 'received', 'sage', 'accurately', 'reconcile', 'actual', 'receipts', 'prepare', 'banking', 'book', 'responsible', 'ensure', 'credit', 'control', 'professional', 'timely', 'manner', 'send', 'statements', 'monthly', 'basis', 'managing', 'aged', 'debtors', 'report', 'purchase', 'ledger', 'prepare', 'payment', 'run', 'ensuring', 'invoices', 'due', 'processed', 'log', 'payments', 'sage', 'cheques', 'bacs', 'deal', 'account', 'payable', 'queries', 'managing', 'aged', 'creditors', 'report', 'requirements', 'years', 'systems', 'invoicing', 'understanding', 'computer', 'literate', 'office', 'outlook', 'word', 'excel', 'sage', 'preferred', 'minimum', 'sage', 'tight', 'deadlines', 'errors', 'numeracy', 'organised', 'efficient', 'attention', 'detail', 'totaljobs']\n"
     ]
    }
   ],
   "source": [
    "print(tk_descriptions[ind])"
   ]
  },
  {
   "cell_type": "code",
   "execution_count": 13,
   "metadata": {},
   "outputs": [
    {
     "name": "stdout",
     "output_type": "stream",
     "text": [
      "Vocabulary size:  5059\n",
      "Total number of tokens:  78822\n",
      "Lexical diversity:  0.06418258861739108\n",
      "Total number of description: 776\n",
      "Average description length: 101.57474226804123\n",
      "Maximun description length: 392\n",
      "Minimun description length: 1\n",
      "Standard deviation of description length: 58.88652884635628\n"
     ]
    }
   ],
   "source": [
    "stats_print(tk_descriptions)"
   ]
  },
  {
   "cell_type": "code",
   "execution_count": 14,
   "metadata": {},
   "outputs": [
    {
     "data": {
      "text/plain": [
       "1095"
      ]
     },
     "execution_count": 14,
     "metadata": {},
     "output_type": "execute_result"
    }
   ],
   "source": [
    "# convert to int\n",
    "industry = [int(i) for i in industry]\n",
    "sum(industry)"
   ]
  },
  {
   "cell_type": "code",
   "execution_count": 15,
   "metadata": {},
   "outputs": [
    {
     "data": {
      "text/plain": [
       "0"
      ]
     },
     "execution_count": 15,
     "metadata": {},
     "output_type": "execute_result"
    }
   ],
   "source": [
    "industry[ind]"
   ]
  },
  {
   "cell_type": "markdown",
   "metadata": {},
   "source": [
    "### Task 2.1 Bag-of-words model"
   ]
  },
  {
   "cell_type": "markdown",
   "metadata": {},
   "source": [
    "Here, count based vector is created using `CountVectorizer` from `sklearn.feature_extraction.text`  \n",
    "\n",
    "\n",
    "For bag of words model, as mentioned in requiremnts vocab generated in task 1 is used."
   ]
  },
  {
   "cell_type": "code",
   "execution_count": 16,
   "metadata": {},
   "outputs": [],
   "source": [
    "# Bag of Words. \n",
    "\n",
    "joined_descp = join_token(tk_descriptions)\n",
    "\n",
    "countVectorizer = CountVectorizer(analyzer = \"word\",vocabulary = vocab) # count based vector"
   ]
  },
  {
   "cell_type": "code",
   "execution_count": 17,
   "metadata": {},
   "outputs": [
    {
     "data": {
      "text/plain": [
       "(776, 5058)"
      ]
     },
     "execution_count": 17,
     "metadata": {},
     "output_type": "execute_result"
    }
   ],
   "source": [
    "count_features = countVectorizer.fit_transform(joined_descp)\n",
    "count_features.shape"
   ]
  },
  {
   "cell_type": "markdown",
   "metadata": {},
   "source": [
    "shape looks good :)\n",
    "\n",
    "In shape(i,j), i is same as the data - `tk_descriptions` and `industry`"
   ]
  },
  {
   "cell_type": "code",
   "execution_count": 18,
   "metadata": {},
   "outputs": [
    {
     "data": {
      "text/plain": [
       "array([0, 0, 0, ..., 0, 0, 0], dtype=int64)"
      ]
     },
     "execution_count": 18,
     "metadata": {},
     "output_type": "execute_result"
    }
   ],
   "source": [
    "count_vector_array = count_features.toarray()\n",
    "count_vector_array[0]"
   ]
  },
  {
   "cell_type": "markdown",
   "metadata": {},
   "source": [
    "A validator function, built by referring to week 8 lab materials, can be employed to verify the correctness of `count_features`."
   ]
  },
  {
   "cell_type": "code",
   "execution_count": 19,
   "metadata": {},
   "outputs": [],
   "source": [
    "def validator(data_features, vocab, a_ind, article_ids,tk_descriptions):\n",
    "    \"\"\"\n",
    "    Function to validate tokenized featuer and it's vector representation\n",
    "\n",
    "    NOTE:\n",
    "    This function is inspired from week 8 lab material\n",
    "    \"\"\"\n",
    "    print(\"Web Index:\", web_index[a_ind])\n",
    "    print(\"--------------------------------------------\")\n",
    "    print(\"Article tokens:\",tk_descriptions[a_ind]) \n",
    "    print(\"--------------------------------------------\\n\")\n",
    "    print(\"Vector representation:\\n\") # printing the vector representation as format 'word:value' (\n",
    "                                      # the value is an integer for count vector and a float value for tfidf\n",
    "\n",
    "    for word, value in zip(vocab, data_features.toarray()[a_ind]): \n",
    "        if value > 0:\n",
    "            print(word+\":\"+str(value), end =' ')"
   ]
  },
  {
   "cell_type": "code",
   "execution_count": 20,
   "metadata": {
    "scrolled": true
   },
   "outputs": [
    {
     "name": "stdout",
     "output_type": "stream",
     "text": [
      "Web Index: 68684698\n",
      "--------------------------------------------\n",
      "Article tokens: ['recruit', 'experienced', 'purchase', 'ledger', 'clerk', 'covering', 'maternity', 'february', 'mid', 'year', 'ideal', 'immediately', 'duties', 'responsibilities', 'limited', 'ledger', 'input', 'cheques', 'bacs', 'received', 'sage', 'accurately', 'reconcile', 'actual', 'receipts', 'prepare', 'banking', 'book', 'responsible', 'ensure', 'credit', 'control', 'professional', 'timely', 'manner', 'send', 'statements', 'monthly', 'basis', 'managing', 'aged', 'debtors', 'report', 'purchase', 'ledger', 'prepare', 'payment', 'run', 'ensuring', 'invoices', 'due', 'processed', 'log', 'payments', 'sage', 'cheques', 'bacs', 'deal', 'account', 'payable', 'queries', 'managing', 'aged', 'creditors', 'report', 'requirements', 'years', 'systems', 'invoicing', 'understanding', 'computer', 'literate', 'office', 'outlook', 'word', 'excel', 'sage', 'preferred', 'minimum', 'sage', 'tight', 'deadlines', 'errors', 'numeracy', 'organised', 'efficient', 'attention', 'detail', 'totaljobs']\n",
      "--------------------------------------------\n",
      "\n",
      "Vector representation:\n",
      "\n",
      "account:1 accurately:1 actual:1 aged:2 attention:1 bacs:2 banking:1 basis:1 book:1 cheques:2 clerk:1 computer:1 control:1 covering:1 credit:1 creditors:1 deadlines:1 deal:1 debtors:1 detail:1 due:1 duties:1 efficient:1 ensure:1 ensuring:1 errors:1 excel:1 experienced:1 february:1 ideal:1 immediately:1 input:1 invoices:1 invoicing:1 ledger:3 limited:1 literate:1 log:1 managing:2 manner:1 maternity:1 mid:1 minimum:1 monthly:1 numeracy:1 office:1 organised:1 outlook:1 payable:1 payment:1 payments:1 preferred:1 prepare:2 processed:1 professional:1 purchase:2 queries:1 receipts:1 received:1 reconcile:1 recruit:1 report:2 requirements:1 responsibilities:1 responsible:1 run:1 sage:4 send:1 statements:1 systems:1 tight:1 timely:1 totaljobs:1 understanding:1 word:1 year:1 years:1 "
     ]
    }
   ],
   "source": [
    "validator(count_features,vocab,ind, web_index,tk_descriptions)"
   ]
  },
  {
   "cell_type": "markdown",
   "metadata": {},
   "source": [
    "The Web Index, Article tokens, and Vector representation align with each other."
   ]
  },
  {
   "cell_type": "code",
   "execution_count": 21,
   "metadata": {},
   "outputs": [],
   "source": [
    "# save in count_vectors\n",
    "count_vectors = []\n",
    "\n",
    "# Iterate through each count vector and its corresponding web index\n",
    "for web_index, count_vector in zip(web_index, count_features):\n",
    "    # Convert the count vector to a dictionary of word frequencies\n",
    "    word_freq_dict = {}\n",
    "    non_zero_indices = count_vector.indices\n",
    "    non_zero_counts = count_vector.data\n",
    "\n",
    "    for index, count in zip(non_zero_indices, non_zero_counts):\n",
    "        word_freq_dict[index] = count\n",
    "\n",
    "    # Convert the word frequency dictionary to a string\n",
    "    vector_str = ','.join(f'{index}:{count}' for index, count in word_freq_dict.items())\n",
    "\n",
    "    # Create the final line for the sparse representation\n",
    "    counts = f'#{web_index},{vector_str}'\n",
    "\n",
    "    # Append the sparse line to the list of sparse vectors\n",
    "    count_vectors.append(counts)\n",
    "\n",
    "# count_vectors"
   ]
  },
  {
   "cell_type": "code",
   "execution_count": 22,
   "metadata": {
    "scrolled": true
   },
   "outputs": [
    {
     "data": {
      "text/plain": [
       "'#68684698,27:1,41:1,64:1,150:2,361:1,421:2,429:1,442:1,522:1,766:2,814:1,943:1,1038:1,1105:1,1124:1,1125:1,1181:1,1182:1,1193:1,1279:1,1431:1,1439:1,1491:1,1586:1,1588:1,1621:1,1672:1,1715:1,1784:1,2243:1,2260:1,2353:1,2460:1,2461:1,2595:3,2641:1,2663:1,2687:1,2751:2,2754:1,2788:1,2879:1,2911:1,2949:1,3073:1,3119:1,3198:1,3223:1,3312:1,3315:1,3316:1,3499:1,3507:2,3580:1,3596:1,3680:2,3712:1,3770:1,3772:1,3788:1,3797:1,3887:2,3904:1,3942:1,3944:1,4039:1,4051:4,4151:1,4377:1,4547:1,4652:1,4658:1,4683:1,4776:1,5011:1,5046:1,5049:1'"
      ]
     },
     "execution_count": 22,
     "metadata": {},
     "output_type": "execute_result"
    }
   ],
   "source": [
    "count_vectors[ind]"
   ]
  },
  {
   "cell_type": "markdown",
   "metadata": {},
   "source": [
    "Let's check if index and word are matching"
   ]
  },
  {
   "cell_type": "code",
   "execution_count": 23,
   "metadata": {
    "scrolled": true
   },
   "outputs": [
    {
     "name": "stdout",
     "output_type": "stream",
     "text": [
      "account:1 accurately:1 actual:1 aged:2 attention:1 bacs:2 banking:1 basis:1 book:1 cheques:2 clerk:1 computer:1 control:1 covering:1 credit:1 creditors:1 deadlines:1 deal:1 debtors:1 detail:1 due:1 duties:1 efficient:1 ensure:1 ensuring:1 errors:1 excel:1 experienced:1 february:1 ideal:1 immediately:1 input:1 invoices:1 invoicing:1 ledger:3 limited:1 literate:1 log:1 managing:2 manner:1 maternity:1 mid:1 minimum:1 monthly:1 numeracy:1 office:1 organised:1 outlook:1 payable:1 payment:1 payments:1 preferred:1 prepare:2 processed:1 professional:1 purchase:2 queries:1 receipts:1 received:1 reconcile:1 recruit:1 report:2 requirements:1 responsibilities:1 responsible:1 run:1 sage:4 send:1 statements:1 systems:1 tight:1 timely:1 totaljobs:1 understanding:1 word:1 year:1 years:1 "
     ]
    }
   ],
   "source": [
    "# validation\n",
    "vector_parts = count_vectors[ind].split(',')\n",
    "# Extract the word:count pairs starting from the second element, # not\n",
    "word_count = vector_parts[1:] # ignoring `#digits like #68684698 for now\n",
    "\n",
    "# Initialize an index-value dictionary from the word:count pairs\n",
    "word_count_dict = {}\n",
    "for pair in word_count:\n",
    "    index, count = pair.split(':')\n",
    "    word_count_dict[int(index)] = int(count)\n",
    "\n",
    "# Print word:count pairs for non-zero counts\n",
    "for index, value in word_count_dict.items():\n",
    "    if value > 0:\n",
    "        word = vocab[index]\n",
    "        print(f\"{word}:{value}\", end=' ')"
   ]
  },
  {
   "cell_type": "markdown",
   "metadata": {},
   "source": [
    "_____________________________________________\n",
    "\n",
    "account:1 accurately:1 actual:1 aged:2 attention:1 bacs:2 banking:1 basis:1 book:1 cheques:2 clerk:1 computer:1 control:1 covering:1 credit:1 creditors:1 deadlines:1 deal:1 debtors:1 detail:1 due:1 duties:1 efficient:1 ensure:1 ensuring:1 errors:1 excel:1 experienced:1 february:1 ideal:1 immediately:1 input:1 invoices:1 invoicing:1 ledger:3 limited:1 literate:1 log:1 managing:2 manner:1 maternity:1 mid:1 minimum:1 monthly:1 numeracy:1 office:1 organised:1 outlook:1 payable:1 payment:1 payments:1 preferred:1 prepare:2 processed:1 professional:1 purchase:2 queries:1 receipts:1 received:1 reconcile:1 recruit:1 report:2 requirements:1 responsibilities:1 responsible:1 run:1 sage:4 send:1 statements:1 systems:1 tight:1 timely:1 totaljobs:1 understanding:1 word:1 year:1 years:1\n",
    "\n",
    "_____________________________________________"
   ]
  },
  {
   "cell_type": "markdown",
   "metadata": {},
   "source": [
    "Values from before and after are matching"
   ]
  },
  {
   "cell_type": "markdown",
   "metadata": {},
   "source": [
    "### Task 2.2 Models based on word embeddings"
   ]
  },
  {
   "cell_type": "markdown",
   "metadata": {},
   "source": [
    "Goal is to create both unweighted and TF-IDF weighted vector representations\n",
    "\n",
    "As there is no restriction (or requirement) of using the vocab file form task1, few more processing (Lemmatization and bigrams) is carried out to improve vocabulary\n",
    "\n",
    "\n",
    "<p style=\"font-size:12px;\">Note: lemmatizer and bigrams will not be performed for title.</p>"
   ]
  },
  {
   "cell_type": "code",
   "execution_count": 24,
   "metadata": {},
   "outputs": [
    {
     "data": {
      "text/plain": [
       "['accountant', 'partqualified', 'south', 'east', 'london']"
      ]
     },
     "execution_count": 24,
     "metadata": {},
     "output_type": "execute_result"
    }
   ],
   "source": [
    "# setting words for this tasks\n",
    "words_descp = gen_words(tk_descriptions)#list(chain.from_iterable(tk_descriptions))\n",
    "vocab_descp = set(words_descp)\n",
    "words_descp[0:5]"
   ]
  },
  {
   "cell_type": "code",
   "execution_count": 25,
   "metadata": {},
   "outputs": [
    {
     "name": "stdout",
     "output_type": "stream",
     "text": [
      "843\n"
     ]
    }
   ],
   "source": [
    "# lemmatizer\n",
    "\n",
    "lemmatizer = WordNetLemmatizer()\n",
    "\n",
    "processed = ['{0} -> {1}'.format(w, lemmatizer.lemmatize(w)) for w in vocab_descp if w!=lemmatizer.lemmatize(w)] # week 7 lab\n",
    "print(len(processed))\n"
   ]
  },
  {
   "cell_type": "markdown",
   "metadata": {},
   "source": [
    "843 words!  \n",
    "\n",
    "That's a lot"
   ]
  },
  {
   "cell_type": "code",
   "execution_count": 26,
   "metadata": {},
   "outputs": [
    {
     "data": {
      "text/plain": [
       "['universities -> university',\n",
       " 'offices -> office',\n",
       " 'examinations -> examination',\n",
       " 'analysers -> analyser',\n",
       " 'challenges -> challenge',\n",
       " 'pumps -> pump',\n",
       " 'technologies -> technology',\n",
       " 'deals -> deal',\n",
       " 'supports -> support',\n",
       " 'electricians -> electrician',\n",
       " 'discussions -> discussion',\n",
       " 'associates -> associate',\n",
       " 'connections -> connection',\n",
       " 'glasses -> glass',\n",
       " 'margins -> margin',\n",
       " 'disclaimers -> disclaimer',\n",
       " 'entries -> entry',\n",
       " 'appraisals -> appraisal',\n",
       " 'supermarkets -> supermarket',\n",
       " 'boxes -> box',\n",
       " 'employs -> employ',\n",
       " 'creditors -> creditor',\n",
       " 'categories -> category',\n",
       " 'maths -> math',\n",
       " 'promises -> promise']"
      ]
     },
     "execution_count": 26,
     "metadata": {},
     "output_type": "execute_result"
    }
   ],
   "source": [
    "processed[:25]"
   ]
  },
  {
   "cell_type": "code",
   "execution_count": 27,
   "metadata": {},
   "outputs": [],
   "source": [
    "# lemmatizer those words\n",
    "\n",
    "tk_descriptions = [[lemmatizer.lemmatize(w) for w in descp] for descp in tk_descriptions]"
   ]
  },
  {
   "cell_type": "code",
   "execution_count": 28,
   "metadata": {},
   "outputs": [
    {
     "name": "stdout",
     "output_type": "stream",
     "text": [
      "Vocabulary size:  4437\n",
      "Total number of tokens:  78822\n",
      "Lexical diversity:  0.056291390728476824\n",
      "Total number of description: 776\n",
      "Average description length: 101.57474226804123\n",
      "Maximun description length: 392\n",
      "Minimun description length: 1\n",
      "Standard deviation of description length: 58.88652884635628\n"
     ]
    }
   ],
   "source": [
    "stats_print(tk_descriptions)"
   ]
  },
  {
   "cell_type": "code",
   "execution_count": 29,
   "metadata": {},
   "outputs": [
    {
     "data": {
      "text/plain": [
       "FreqDist({('nbsp', 'nbsp'): 148, ('employment', 'agency'): 102, ('track', 'record'): 75, ('nursing', 'home'): 66, ('acting', 'employment'): 55, ('health', 'safety'): 54, ('care', 'home'): 49, ('days', 'holiday'): 43, ('day', 'day'): 42, ('equal', 'opportunities'): 42, ...})"
      ]
     },
     "execution_count": 29,
     "metadata": {},
     "output_type": "execute_result"
    }
   ],
   "source": [
    "# biagrams\n",
    "\n",
    "bigrams = ngrams(words_descp,n=2)\n",
    "fdbigram = FreqDist(bigrams)\n",
    "fdbigram"
   ]
  },
  {
   "cell_type": "code",
   "execution_count": 30,
   "metadata": {},
   "outputs": [
    {
     "data": {
      "text/plain": [
       "FreqDist({('employment', 'agency'): 102, ('track', 'record'): 75, ('nursing', 'home'): 66, ('acting', 'employment'): 55, ('health', 'safety'): 54, ('care', 'home'): 49, ('days', 'holiday'): 43, ('day', 'day'): 42, ('equal', 'opportunities'): 42, ('proven', 'track'): 41, ...})"
      ]
     },
     "execution_count": 30,
     "metadata": {},
     "output_type": "execute_result"
    }
   ],
   "source": [
    "# remove nbsp\n",
    "\n",
    "words = [word for word in words_descp if word != 'nbsp']\n",
    "bigrams = ngrams(words,n=2)\n",
    "\n",
    "fdbigram = FreqDist(bigrams)\n",
    "fdbigram"
   ]
  },
  {
   "cell_type": "code",
   "execution_count": 31,
   "metadata": {
    "scrolled": true
   },
   "outputs": [
    {
     "data": {
      "text/plain": [
       "[(('employment', 'agency'), 102),\n",
       " (('track', 'record'), 75),\n",
       " (('nursing', 'home'), 66),\n",
       " (('acting', 'employment'), 55),\n",
       " (('health', 'safety'), 54),\n",
       " (('care', 'home'), 49),\n",
       " (('days', 'holiday'), 43),\n",
       " (('day', 'day'), 42),\n",
       " (('equal', 'opportunities'), 42),\n",
       " (('proven', 'track'), 41),\n",
       " (('hours', 'week'), 41),\n",
       " (('relation', 'vacancy'), 39),\n",
       " (('design', 'engineer'), 38),\n",
       " (('face', 'face'), 37),\n",
       " (('pension', 'scheme'), 37),\n",
       " (('registered', 'nurse'), 36),\n",
       " (('agency', 'relation'), 34),\n",
       " (('wide', 'range'), 34),\n",
       " (('attention', 'detail'), 34),\n",
       " (('career', 'progression'), 34),\n",
       " (('key', 'responsibilities'), 34),\n",
       " (('minimum', 'years'), 34),\n",
       " (('mental', 'health'), 34),\n",
       " (('nursing', 'care'), 33),\n",
       " (('driving', 'licence'), 32)]"
      ]
     },
     "execution_count": 31,
     "metadata": {},
     "output_type": "execute_result"
    }
   ],
   "source": [
    "bigrams = fdbigram.most_common(25) # top 25 bigrams\n",
    "bigrams"
   ]
  },
  {
   "cell_type": "code",
   "execution_count": 32,
   "metadata": {},
   "outputs": [],
   "source": [
    "rep_patterns = [\" \".join(bg[0]) for bg in bigrams]"
   ]
  },
  {
   "cell_type": "markdown",
   "metadata": {},
   "source": [
    "There are lot of words that are meaning full, but some are not. Let's remove them"
   ]
  },
  {
   "cell_type": "code",
   "execution_count": 33,
   "metadata": {},
   "outputs": [
    {
     "data": {
      "text/plain": [
       "['employment agency',\n",
       " 'track record',\n",
       " 'nursing home',\n",
       " 'acting employment',\n",
       " 'health safety',\n",
       " 'care home',\n",
       " 'days holiday',\n",
       " 'equal opportunities',\n",
       " 'proven track',\n",
       " 'hours week',\n",
       " 'relation vacancy',\n",
       " 'design engineer',\n",
       " 'pension scheme',\n",
       " 'registered nurse',\n",
       " 'agency relation',\n",
       " 'wide range',\n",
       " 'attention detail',\n",
       " 'career progression',\n",
       " 'key responsibilities',\n",
       " 'minimum years',\n",
       " 'mental health',\n",
       " 'nursing care',\n",
       " 'driving licence']"
      ]
     },
     "execution_count": 33,
     "metadata": {},
     "output_type": "execute_result"
    }
   ],
   "source": [
    "filtered = ['day day', 'face face'] # not making sense, migth be be face to face (not 100% sure) as we removed stop words, it better to remove these\n",
    "rep_patterns = [bg for bg in rep_patterns if bg not in filtered]\n",
    "rep_patterns"
   ]
  },
  {
   "cell_type": "markdown",
   "metadata": {},
   "source": [
    "Now, need to combine bigram words. `\"_\"` is used to combined two words"
   ]
  },
  {
   "cell_type": "code",
   "execution_count": 34,
   "metadata": {},
   "outputs": [
    {
     "data": {
      "text/plain": [
       "['employment_agency',\n",
       " 'track_record',\n",
       " 'nursing_home',\n",
       " 'acting_employment',\n",
       " 'health_safety',\n",
       " 'care_home',\n",
       " 'days_holiday',\n",
       " 'equal_opportunities',\n",
       " 'proven_track',\n",
       " 'hours_week',\n",
       " 'relation_vacancy',\n",
       " 'design_engineer',\n",
       " 'pension_scheme',\n",
       " 'registered_nurse',\n",
       " 'agency_relation',\n",
       " 'wide_range',\n",
       " 'attention_detail',\n",
       " 'career_progression',\n",
       " 'key_responsibilities',\n",
       " 'minimum_years',\n",
       " 'mental_health',\n",
       " 'nursing_care',\n",
       " 'driving_licence']"
      ]
     },
     "execution_count": 34,
     "metadata": {},
     "output_type": "execute_result"
    }
   ],
   "source": [
    "replacements = [bg.replace(\" \",\"_\") for bg in rep_patterns] # convert the format of bigram into word1_word2\n",
    "replacements # all above snippents are week 8"
   ]
  },
  {
   "cell_type": "code",
   "execution_count": 35,
   "metadata": {},
   "outputs": [],
   "source": [
    "tk_descriptions = join_token(tk_descriptions) # construct the review string, list to stings or sentance\n",
    "\n",
    "for i in range(0, len(tk_descriptions)): \n",
    "    for j in  range(0,len(rep_patterns)):\n",
    "        # Replace with patterns\n",
    "        # code similar to lab material\n",
    "        tk_descriptions[i] = re.sub(rep_patterns[j], replacements[j], tk_descriptions[i]) # replace with bigram representation \n",
    "\n",
    "tk_descriptions = [descp.split(\" \") for descp in tk_descriptions] # convert back to tokenised review"
   ]
  },
  {
   "cell_type": "code",
   "execution_count": 36,
   "metadata": {},
   "outputs": [
    {
     "name": "stdout",
     "output_type": "stream",
     "text": [
      "Vocabulary size:  4467\n",
      "Total number of tokens:  77936\n",
      "Lexical diversity:  0.05731625949497023\n",
      "Total number of description: 776\n",
      "Average description length: 100.43298969072166\n",
      "Maximun description length: 389\n",
      "Minimun description length: 1\n",
      "Standard deviation of description length: 58.484627853697255\n"
     ]
    }
   ],
   "source": [
    "stats_print(tk_descriptions)"
   ]
  },
  {
   "cell_type": "code",
   "execution_count": 37,
   "metadata": {},
   "outputs": [
    {
     "data": {
      "text/plain": [
       "4466"
      ]
     },
     "execution_count": 37,
     "metadata": {},
     "output_type": "execute_result"
    }
   ],
   "source": [
    "# words and vocab for the upcoming model - Biagrams and lemnatiser processed\n",
    "\n",
    "words_descp_v2 = gen_words(tk_descriptions)#list(chain.from_iterable(tk_descriptions)) \n",
    "vocab_descp_v2 = sorted(list(set(words_descp_v2)))[1:] #  [1:] removes\"\"\n",
    "\n",
    "len(vocab_descp_v2)\n"
   ]
  },
  {
   "cell_type": "markdown",
   "metadata": {},
   "source": [
    "Finally before actually implementing, pre trained language model. Let's store the data in data frame. \n",
    "\n",
    "<p style=\"font-size:12px;\">Note: \r\n",
    "This step is optional. Creating a dataframe is solely for a quick review to ensure that values are correctly store. In this case, only variables are used directly. Nevertheless, storing them as a dataframe provides a future opportunity for easy export.y</p>"
   ]
  },
  {
   "cell_type": "code",
   "execution_count": 38,
   "metadata": {},
   "outputs": [],
   "source": [
    "# creating a dataframe\n",
    "\n",
    "data_dict = {'WebIndex':web_index,'Target':industry}\n",
    "df = pd.DataFrame(data_dict)"
   ]
  },
  {
   "cell_type": "code",
   "execution_count": 39,
   "metadata": {},
   "outputs": [
    {
     "data": {
      "text/html": [
       "<div>\n",
       "<style scoped>\n",
       "    .dataframe tbody tr th:only-of-type {\n",
       "        vertical-align: middle;\n",
       "    }\n",
       "\n",
       "    .dataframe tbody tr th {\n",
       "        vertical-align: top;\n",
       "    }\n",
       "\n",
       "    .dataframe thead th {\n",
       "        text-align: right;\n",
       "    }\n",
       "</style>\n",
       "<table border=\"1\" class=\"dataframe\">\n",
       "  <thead>\n",
       "    <tr style=\"text-align: right;\">\n",
       "      <th></th>\n",
       "      <th>WebIndex</th>\n",
       "      <th>Target</th>\n",
       "      <th>Industry</th>\n",
       "    </tr>\n",
       "  </thead>\n",
       "  <tbody>\n",
       "    <tr>\n",
       "      <th>0</th>\n",
       "      <td>71185283</td>\n",
       "      <td>0</td>\n",
       "      <td>Accounting_Finance</td>\n",
       "    </tr>\n",
       "    <tr>\n",
       "      <th>1</th>\n",
       "      <td>71185283</td>\n",
       "      <td>0</td>\n",
       "      <td>Accounting_Finance</td>\n",
       "    </tr>\n",
       "    <tr>\n",
       "      <th>2</th>\n",
       "      <td>71185283</td>\n",
       "      <td>2</td>\n",
       "      <td>Healthcare_Nursing</td>\n",
       "    </tr>\n",
       "    <tr>\n",
       "      <th>3</th>\n",
       "      <td>71185283</td>\n",
       "      <td>0</td>\n",
       "      <td>Accounting_Finance</td>\n",
       "    </tr>\n",
       "    <tr>\n",
       "      <th>4</th>\n",
       "      <td>71185283</td>\n",
       "      <td>2</td>\n",
       "      <td>Healthcare_Nursing</td>\n",
       "    </tr>\n",
       "  </tbody>\n",
       "</table>\n",
       "</div>"
      ],
      "text/plain": [
       "   WebIndex  Target            Industry\n",
       "0  71185283       0  Accounting_Finance\n",
       "1  71185283       0  Accounting_Finance\n",
       "2  71185283       2  Healthcare_Nursing\n",
       "3  71185283       0  Accounting_Finance\n",
       "4  71185283       2  Healthcare_Nursing"
      ]
     },
     "execution_count": 39,
     "metadata": {},
     "output_type": "execute_result"
    }
   ],
   "source": [
    "map_industry = {\n",
    "    0: 'Accounting_Finance',\n",
    "    1: 'Engineering',\n",
    "    2: 'Healthcare_Nursing',\n",
    "    3: 'Sales'\n",
    "}\n",
    "df['Industry'] = df['Target'].map(map_industry)\n",
    "df.head()"
   ]
  },
  {
   "cell_type": "code",
   "execution_count": 40,
   "metadata": {},
   "outputs": [],
   "source": [
    "df['tk_text'] = tk_descriptions"
   ]
  },
  {
   "cell_type": "code",
   "execution_count": 41,
   "metadata": {},
   "outputs": [
    {
     "data": {
      "text/html": [
       "<div>\n",
       "<style scoped>\n",
       "    .dataframe tbody tr th:only-of-type {\n",
       "        vertical-align: middle;\n",
       "    }\n",
       "\n",
       "    .dataframe tbody tr th {\n",
       "        vertical-align: top;\n",
       "    }\n",
       "\n",
       "    .dataframe thead th {\n",
       "        text-align: right;\n",
       "    }\n",
       "</style>\n",
       "<table border=\"1\" class=\"dataframe\">\n",
       "  <thead>\n",
       "    <tr style=\"text-align: right;\">\n",
       "      <th></th>\n",
       "      <th>WebIndex</th>\n",
       "      <th>Target</th>\n",
       "      <th>Industry</th>\n",
       "      <th>tk_text</th>\n",
       "    </tr>\n",
       "  </thead>\n",
       "  <tbody>\n",
       "    <tr>\n",
       "      <th>283</th>\n",
       "      <td>71185283</td>\n",
       "      <td>1</td>\n",
       "      <td>Engineering</td>\n",
       "      <td>[people, surrounding, postcode, area, visit, c...</td>\n",
       "    </tr>\n",
       "    <tr>\n",
       "      <th>691</th>\n",
       "      <td>71185283</td>\n",
       "      <td>2</td>\n",
       "      <td>Healthcare_Nursing</td>\n",
       "      <td>[adult, qualified, social, worker, gloucesters...</td>\n",
       "    </tr>\n",
       "    <tr>\n",
       "      <th>426</th>\n",
       "      <td>71185283</td>\n",
       "      <td>2</td>\n",
       "      <td>Healthcare_Nursing</td>\n",
       "      <td>[nh, organisation, wale, requirement, estate, ...</td>\n",
       "    </tr>\n",
       "    <tr>\n",
       "      <th>84</th>\n",
       "      <td>71185283</td>\n",
       "      <td>0</td>\n",
       "      <td>Accounting_Finance</td>\n",
       "      <td>[great, specialist, risk, large, financial, ac...</td>\n",
       "    </tr>\n",
       "    <tr>\n",
       "      <th>275</th>\n",
       "      <td>71185283</td>\n",
       "      <td>1</td>\n",
       "      <td>Engineering</td>\n",
       "      <td>[purpose, design, configuration, testing, virt...</td>\n",
       "    </tr>\n",
       "  </tbody>\n",
       "</table>\n",
       "</div>"
      ],
      "text/plain": [
       "     WebIndex  Target            Industry  \\\n",
       "283  71185283       1         Engineering   \n",
       "691  71185283       2  Healthcare_Nursing   \n",
       "426  71185283       2  Healthcare_Nursing   \n",
       "84   71185283       0  Accounting_Finance   \n",
       "275  71185283       1         Engineering   \n",
       "\n",
       "                                               tk_text  \n",
       "283  [people, surrounding, postcode, area, visit, c...  \n",
       "691  [adult, qualified, social, worker, gloucesters...  \n",
       "426  [nh, organisation, wale, requirement, estate, ...  \n",
       "84   [great, specialist, risk, large, financial, ac...  \n",
       "275  [purpose, design, configuration, testing, virt...  "
      ]
     },
     "execution_count": 41,
     "metadata": {},
     "output_type": "execute_result"
    }
   ],
   "source": [
    "df.sample(5)"
   ]
  },
  {
   "cell_type": "markdown",
   "metadata": {},
   "source": [
    "##### Models based on word embeddings\n",
    "\n",
    "Now we move to main task of this part that is to build un weighted and weighted models"
   ]
  },
  {
   "cell_type": "code",
   "execution_count": 42,
   "metadata": {},
   "outputs": [],
   "source": [
    "def docvecs(embeddings, docs):\n",
    "    \"\"\"\n",
    "    Function to compute document vectors based on word embeddings for given documents.\n",
    "\n",
    "    NOTE: \n",
    "    This function is inspired from week 9 contents\n",
    "    \"\"\"\n",
    "    vecs = np.zeros((len(docs), embeddings.vector_size))\n",
    "    for i, doc in enumerate(docs):\n",
    "        valid_keys = [term for term in doc if term in embeddings.key_to_index]\n",
    "        # print([embeddings[term] for term in valid_keys])\n",
    "        try:\n",
    "            docvec = np.vstack([embeddings[term] for term in valid_keys])\n",
    "        except:\n",
    "            pass\n",
    "        docvec = np.sum(docvec, axis=0) # pooling\n",
    "        vecs[i,:] = docvec\n",
    "    return vecs"
   ]
  },
  {
   "cell_type": "code",
   "execution_count": 43,
   "metadata": {},
   "outputs": [],
   "source": [
    "# !pip install gensim"
   ]
  },
  {
   "cell_type": "markdown",
   "metadata": {},
   "source": [
    "Word2Vec has been chosen, and the pre-trained language model `glove-wiki-gigaword-100` is being utilized."
   ]
  },
  {
   "cell_type": "code",
   "execution_count": 44,
   "metadata": {},
   "outputs": [],
   "source": [
    "# word2vec\n",
    "\n",
    "# word2vec-google-news-300 is large file, so could consume some time. To use it uncoment it\n",
    "\n",
    "# preTrainedModel = api.load('word2vec-google-news-300')\n",
    "\n",
    "# used smaller file instead\n",
    "preTrainedModel = api.load('glove-wiki-gigaword-100') # takes little bit of time\n",
    "\n",
    "# even smaller file, take the least time compared to other two. To use it uncoment it\n",
    "# preTrainedModel = api.load('glove-wiki-gigaword-50')"
   ]
  },
  {
   "cell_type": "code",
   "execution_count": 45,
   "metadata": {},
   "outputs": [],
   "source": [
    "unweighted_descp= docvecs(preTrainedModel,tk_descriptions) #unweighted_descp"
   ]
  },
  {
   "cell_type": "code",
   "execution_count": 46,
   "metadata": {},
   "outputs": [
    {
     "data": {
      "text/plain": [
       "0"
      ]
     },
     "execution_count": 46,
     "metadata": {},
     "output_type": "execute_result"
    }
   ],
   "source": [
    "np.isnan(unweighted_descp).sum() # checking for  null"
   ]
  },
  {
   "cell_type": "code",
   "execution_count": 47,
   "metadata": {},
   "outputs": [
    {
     "data": {
      "text/plain": [
       "(776, 100)"
      ]
     },
     "execution_count": 47,
     "metadata": {},
     "output_type": "execute_result"
    }
   ],
   "source": [
    "unweighted_descp.shape"
   ]
  },
  {
   "cell_type": "markdown",
   "metadata": {},
   "source": [
    "shape is aligning with `tk_descriptions` and `industry`"
   ]
  },
  {
   "cell_type": "markdown",
   "metadata": {},
   "source": [
    "We will use `plotTSNE` function from week 9 to plot a 2D t-SNE visualization (scatter plot) which will show the distributions."
   ]
  },
  {
   "cell_type": "code",
   "execution_count": 48,
   "metadata": {},
   "outputs": [],
   "source": [
    "def plotTSNE(labels,features):\n",
    "    \"\"\"\n",
    "    Function to plot a 2D t-SNE visualization (scatter plot) of document embeddings with labeled data points.\n",
    "    NOTE: \n",
    "    This function is refered from week 9 contents\n",
    "    \"\"\"\n",
    "    categories = sorted(labels.unique()) # store unique and alphabetical categorey values\n",
    "    # Sampling a subset of our dataset because t-SNE is computationally expensive\n",
    "    SAMPLE_SIZE = int(len(features) * 0.3)\n",
    "    np.random.seed(3)\n",
    "    indices = np.random.choice(range(len(features)), size=SAMPLE_SIZE, replace=False)\n",
    "    projected_features = TSNE(n_components=2, random_state=0).fit_transform(features[indices])\n",
    "    colors = ['pink', 'green', 'midnightblue', 'orange', 'darkgrey']\n",
    "\n",
    "\n",
    "    # plotting\n",
    "    for i in range(0,len(categories)):\n",
    "        points = projected_features[(labels[indices] == categories[i])]\n",
    "        plt.scatter(points[:, 0], points[:, 1], s=30, c=colors[i], label=categories[i])\n",
    "    plt.title(\"Feature vector for each token, projected on 2 dimensions.\",\n",
    "              fontdict=dict(fontsize=15))\n",
    "    plt.legend()\n",
    "    plt.show()"
   ]
  },
  {
   "cell_type": "code",
   "execution_count": 49,
   "metadata": {
    "scrolled": true
   },
   "outputs": [
    {
     "data": {
      "image/png": "[encoded data removed]",
      "text/plain": [
       "<Figure size 640x480 with 1 Axes>"
      ]
     },
     "metadata": {},
     "output_type": "display_data"
    }
   ],
   "source": [
    "try:\n",
    "    features = unweighted_descp.to_numpy() # convert the document vector dataframe to a numpy array\n",
    "except:\n",
    "    # used `docvec` so already is a numpy array\n",
    "    features = unweighted_descp\n",
    "plotTSNE(df['Industry'],features) # plot the tSNE to have a look"
   ]
  },
  {
   "cell_type": "markdown",
   "metadata": {},
   "source": [
    "Hmm 🤔. There is some overlap, which could potentially impact the model's performance. However, it doesn't appear worse since we can observe that most similar patterns tend to follow certain trends or are distinct from other groups."
   ]
  },
  {
   "cell_type": "markdown",
   "metadata": {},
   "source": [
    "Anyways, we can move on to weighted vector representation based on TF-IDF"
   ]
  },
  {
   "cell_type": "code",
   "execution_count": 50,
   "metadata": {},
   "outputs": [],
   "source": [
    "# weighted\n",
    "tfidf_vectorizer = TfidfVectorizer(analyzer = \"word\")\n",
    "\n",
    "joined_descp = [' '.join(descp) for descp in tk_descriptions]\n",
    "tfidf_matrix = tfidf_vectorizer.fit_transform(joined_descp)\n"
   ]
  },
  {
   "cell_type": "code",
   "execution_count": 51,
   "metadata": {},
   "outputs": [
    {
     "data": {
      "text/plain": [
       "(776, 4443)"
      ]
     },
     "execution_count": 51,
     "metadata": {},
     "output_type": "execute_result"
    }
   ],
   "source": [
    "tfidf_matrix.shape"
   ]
  },
  {
   "cell_type": "markdown",
   "metadata": {},
   "source": [
    "Again, shape is good"
   ]
  },
  {
   "cell_type": "code",
   "execution_count": 52,
   "metadata": {},
   "outputs": [],
   "source": [
    "vocabulary = tfidf_vectorizer.get_feature_names_out()"
   ]
  },
  {
   "cell_type": "code",
   "execution_count": 53,
   "metadata": {},
   "outputs": [
    {
     "data": {
      "text/plain": [
       "4443"
      ]
     },
     "execution_count": 53,
     "metadata": {},
     "output_type": "execute_result"
    }
   ],
   "source": [
    "len(vocabulary)"
   ]
  },
  {
   "cell_type": "markdown",
   "metadata": {},
   "source": [
    "Slightly modified validator function to validate"
   ]
  },
  {
   "cell_type": "code",
   "execution_count": 54,
   "metadata": {},
   "outputs": [],
   "source": [
    "def validator_v2(data_features, vocab, a_ind,tokenised_articles):\n",
    "    \"\"\"\n",
    "    Function to validate tokenized featuer and it's vector representation.\n",
    "    \n",
    "\n",
    "    NOTE:\n",
    "    Shrunken version of validator with limited attributes\n",
    "    \"\"\"\n",
    "    print(\"Article tokens:\",tokenised_articles[a_ind]) # print out the tokens of the article\n",
    "    print(\"--------------------------------------------\\n\")\n",
    "    print(\"Vector representation:\\n\") # printing the vector representation as format 'word:value' (\n",
    "                                      # the value is 0 or 1 in for binary vector; an integer for count vector; and a float value for tfidf\n",
    "    for word, value in zip(vocab, data_features.toarray()[a_ind]): \n",
    "        if value > 0:\n",
    "            print(word+\":\"+str(value), end =' ')"
   ]
  },
  {
   "cell_type": "code",
   "execution_count": 55,
   "metadata": {
    "scrolled": true
   },
   "outputs": [
    {
     "name": "stdout",
     "output_type": "stream",
     "text": [
      "Article tokens: ['recruit', 'experienced', 'purchase', 'ledger', 'clerk', 'covering', 'maternity', 'february', 'mid', 'year', 'ideal', 'immediately', 'duty', 'responsibility', 'limited', 'ledger', 'input', 'cheque', 'bacs', 'received', 'sage', 'accurately', 'reconcile', 'actual', 'receipt', 'prepare', 'banking', 'book', 'responsible', 'ensure', 'credit', 'control', 'professional', 'timely', 'manner', 'send', 'statement', 'monthly', 'basis', 'managing', 'aged', 'debtor', 'report', 'purchase', 'ledger', 'prepare', 'payment', 'run', 'ensuring', 'invoice', 'due', 'processed', 'log', 'payment', 'sage', 'cheque', 'bacs', 'deal', 'account', 'payable', 'query', 'managing', 'aged', 'creditor', 'report', 'requirement', 'year', 'system', 'invoicing', 'understanding', 'computer', 'literate', 'office', 'outlook', 'word', 'excel', 'sage', 'preferred', 'minimum', 'sage', 'tight', 'deadline', 'error', 'numeracy', 'organised', 'efficient', 'attention_detail', 'totaljobs']\n",
      "--------------------------------------------\n",
      "\n",
      "Vector representation:\n",
      "\n",
      "account:0.05090080825258977 accurately:0.08990465368292902 actual:0.11665189028756778 aged:0.22031995437457402 attention_detail:0.07856386673311554 bacs:0.24191446749876847 banking:0.08341274058264826 basis:0.05718935659471515 book:0.09821620201286171 cheque:0.23330378057513557 clerk:0.1053111033377543 computer:0.07803522947836837 control:0.05470170329951117 covering:0.07301331363661112 credit:0.08411441982961994 creditor:0.11665189028756778 deadline:0.07558967537683328 deal:0.07701951850472737 debtor:0.12650778684588865 due:0.06067170884612573 duty:0.055334351872475304 efficient:0.0808363788424261 ensure:0.04895762748927783 ensuring:0.057727830226327666 error:0.12650778684588865 excel:0.06969762570517345 experienced:0.04838844011266967 february:0.09304030249022707 ideal:0.059241865718231666 immediately:0.08341274058264826 input:0.08484258371054232 invoice:0.09420999714474548 invoicing:0.11015997718728701 ledger:0.2726829276399234 limited:0.07301331363661112 literate:0.0880657340410735 log:0.12095723374938423 managing:0.11367709194046804 manner:0.07003912228032888 maternity:0.11015997718728701 mid:0.11313416854356927 minimum:0.06364590020240798 monthly:0.07513567671730843 numeracy:0.09821620201286171 office:0.04966358622008729 organised:0.08638693193893049 outlook:0.09089430921330781 payable:0.12095723374938423 payment:0.16416317695422813 preferred:0.0722256919187932 prepare:0.16968516742108464 processed:0.12095723374938423 professional:0.048500942197039106 purchase:0.18387497007086984 query:0.07856386673311554 receipt:0.1053111033377543 received:0.09545520677943345 reconcile:0.12650778684588865 recruit:0.060045900923048366 report:0.12009180184609673 requirement:0.04729809054380636 responsibility:0.04656992666288397 responsible:0.048727933671700425 run:0.08484258371054232 sage:0.44063990874914805 send:0.059241865718231666 statement:0.08990465368292902 system:0.04838844011266967 tight:0.08896329367915266 timely:0.07803522947836837 totaljobs:0.049190088768803326 understanding:0.05501543464782367 word:0.07425852327129909 year:0.09273365898976321 "
     ]
    }
   ],
   "source": [
    "validator_v2(tfidf_matrix,vocabulary,7,tk_descriptions)"
   ]
  },
  {
   "cell_type": "markdown",
   "metadata": {},
   "source": [
    "Hooray!  \n",
    "Success in the effort to create TF-IDF based vector representations.\n",
    "\n",
    "Now let's generate the model."
   ]
  },
  {
   "cell_type": "code",
   "execution_count": 56,
   "metadata": {},
   "outputs": [],
   "source": [
    "def gen_WeightedModel(tk_features, preTrainedModel):\n",
    "\n",
    "    \"\"\"\n",
    "    Function to generate TF-IDF weighted language model using Genism.\n",
    "    This function is optimised to generate TF-IDF weight for both description and title (or any other features)\n",
    "    \"\"\"\n",
    "    \n",
    "    # Tokenize descriptions and create TF-IDF matrix\n",
    "    tfidf_vectorizer = TfidfVectorizer(analyzer=\"word\")\n",
    "    joined_feat = join_token(tk_features)\n",
    "    tfidf_matrix = tfidf_vectorizer.fit_transform(joined_feat) # Tf-IDF matrix\n",
    "    vocabulary = tfidf_vectorizer.get_feature_names_out()\n",
    "\n",
    "    # Preprocess text and create TF-IDF model\n",
    "    processed_text = [[w for w in t if w in preTrainedModel.index_to_key] for t in tk_features]\n",
    "    docs_dict = Dictionary(processed_text)\n",
    "    docs_dict.filter_extremes(no_below=5) # filtering words that appear less than 5 times\n",
    "    docs_dict.compactify()\n",
    "    docs_corpus = [docs_dict.doc2bow(doc) for doc in tk_features]\n",
    "    model_tfidf = TfidfModel(docs_corpus, id2word=docs_dict)\n",
    "    docs_tfidf = model_tfidf[docs_corpus]\n",
    "    docs_vecs   = np.vstack([sparse2full(c, len(docs_dict)) for c in docs_tfidf])\n",
    "    # Compute word embedding vectors\n",
    "    word_emb_vecs = np.vstack([preTrainedModel[docs_dict[i]] for i in range(len(docs_dict)) if docs_dict[i] in preTrainedModel.index_to_key])\n",
    "\n",
    "    # Compute TF-IDF document embedding, This also fix embbeding to right shape\n",
    "    # print(docs_vecs.shape, word_emb_vecs.shape)\n",
    "    tfidf_docs_emb = np.dot(docs_vecs, word_emb_vecs)\n",
    "\n",
    "    return tfidf_matrix, vocabulary, tfidf_docs_emb\n"
   ]
  },
  {
   "cell_type": "code",
   "execution_count": 57,
   "metadata": {},
   "outputs": [],
   "source": [
    "# takes a moment to run\n",
    "tfidf_matrix_descp, tfidf_vocabulary_descp, weighted_descp = gen_WeightedModel(tk_descriptions, preTrainedModel)"
   ]
  },
  {
   "cell_type": "code",
   "execution_count": 58,
   "metadata": {},
   "outputs": [
    {
     "data": {
      "image/png": "[encoded data removed]",
      "text/plain": [
       "<Figure size 640x480 with 1 Axes>"
      ]
     },
     "metadata": {},
     "output_type": "display_data"
    }
   ],
   "source": [
    "try:\n",
    "    features = weighted_descp.to_numpy()\n",
    "except:\n",
    "    features = weighted_descp\n",
    "plotTSNE(df['Industry'],features) # plot the tSNE"
   ]
  },
  {
   "cell_type": "markdown",
   "metadata": {},
   "source": [
    "This plot shows a slight improvement compared to the unweighted one, displaying clearer separations between classes with minimal noise or overlaps. Therefore, it's anticipated that the weighted version of the description will outperform the unweighted one in Task 3. Let's see the result in future."
   ]
  },
  {
   "cell_type": "markdown",
   "metadata": {},
   "source": [
    "### Saving outputs\n",
    "Save the count vector representation as per spectification.\n",
    "- count_vectors.txt"
   ]
  },
  {
   "cell_type": "code",
   "execution_count": 59,
   "metadata": {},
   "outputs": [],
   "source": [
    "def count_vector(fileName,vector):\n",
    "    \"\"\"\n",
    "    Function to save count vector into text file\n",
    "    \"\"\"\n",
    "    output_file = open(fileName, 'w') # creates a txt file and open to save sentiments\n",
    "    string = \"\\n\".join([str(s) for s in vector])\n",
    "    output_file.write(string)\n",
    "    output_file.close() # close the file    "
   ]
  },
  {
   "cell_type": "code",
   "execution_count": 60,
   "metadata": {},
   "outputs": [],
   "source": [
    "count_vector('generated_count_vectors.txt',count_vectors)"
   ]
  },
  {
   "cell_type": "markdown",
   "metadata": {},
   "source": [
    "## Task 3. Job Advertisement Classification"
   ]
  },
  {
   "cell_type": "markdown",
   "metadata": {},
   "source": [
    "Here a linear regression is built and validated for following scenarios:\n",
    "- Using only the description of the job advertisement\n",
    "- Using only the title of the job advertisement\n",
    "- Using both the title and description of the job advertisement  \n",
    "\n",
    "\n",
    "The objective of this task is to compare these scenarios and draw conclusions from the outcomes."
   ]
  },
  {
   "cell_type": "markdown",
   "metadata": {},
   "source": [
    "<p style=\"font-size:12px;\">Note: Following 'Luke Gallagher' response to 'Clare Tsang' dated 'Sep 18, 2023' was not used in Task 3 and only term embedding model is used and compared</p>"
   ]
  },
  {
   "cell_type": "code",
   "execution_count": 61,
   "metadata": {},
   "outputs": [],
   "source": [
    "# creating training and test split\n",
    "X_train, X_test, y_train, y_test = train_test_split(unweighted_descp, df['Industry'],test_size=0.33, random_state=1)\n"
   ]
  },
  {
   "cell_type": "code",
   "execution_count": 62,
   "metadata": {},
   "outputs": [],
   "source": [
    "%%capture \n",
    "# %%capture to remove warnings or extend ITERATION LIMI\n",
    "from sklearn.linear_model import LogisticRegression\n",
    "\n",
    "model = LogisticRegression(random_state=1) # # Initialize logical regression\n",
    "model.fit(X_train, y_train)"
   ]
  },
  {
   "cell_type": "code",
   "execution_count": 63,
   "metadata": {},
   "outputs": [],
   "source": [
    "y_pred = model.predict(X_test) # predict"
   ]
  },
  {
   "cell_type": "code",
   "execution_count": 64,
   "metadata": {},
   "outputs": [
    {
     "data": {
      "text/plain": [
       "0.7626459143968871"
      ]
     },
     "execution_count": 64,
     "metadata": {},
     "output_type": "execute_result"
    }
   ],
   "source": [
    "from sklearn.metrics import accuracy_score\n",
    "accuracy_score(y_test, y_pred)"
   ]
  },
  {
   "cell_type": "markdown",
   "metadata": {},
   "source": [
    "The score is neither the best nor the worst."
   ]
  },
  {
   "cell_type": "code",
   "execution_count": 65,
   "metadata": {},
   "outputs": [
    {
     "data": {
      "text/plain": [
       "array([[42,  1,  0, 14],\n",
       "       [ 3, 53,  6,  9],\n",
       "       [ 4,  1, 61,  3],\n",
       "       [11,  6,  3, 40]], dtype=int64)"
      ]
     },
     "execution_count": 65,
     "metadata": {},
     "output_type": "execute_result"
    }
   ],
   "source": [
    "from sklearn.metrics import confusion_matrix\n",
    "\n",
    "conf_mat = confusion_matrix(y_test, y_pred)\n",
    "conf_mat"
   ]
  },
  {
   "cell_type": "markdown",
   "metadata": {},
   "source": [
    "From comfussion matrix, we can see that there are some false predictions\n",
    "\n",
    "Let's visualise the confussion matrix for more clarity"
   ]
  },
  {
   "cell_type": "code",
   "execution_count": 66,
   "metadata": {
    "scrolled": true
   },
   "outputs": [
    {
     "data": {
      "image/png": "[encoded data removed]",
      "text/plain": [
       "<Figure size 500x300 with 2 Axes>"
      ]
     },
     "metadata": {},
     "output_type": "display_data"
    }
   ],
   "source": [
    "import matplotlib.pyplot as plt\n",
    "%matplotlib inline \n",
    "import seaborn as sns\n",
    "labels = df['Industry']\n",
    "categories = sorted(list(set(labels))) # this gives sorted set of unique label names\n",
    "plt.figure(figsize=(5, 3))  \n",
    "sns.heatmap(conf_mat, annot=True, fmt='d',\n",
    "            xticklabels=categories, yticklabels=categories,cmap='Blues') # creates a heatmap from the confusion matrix\n",
    "plt.ylabel('Actual')\n",
    "plt.xlabel('Predicted')\n",
    "plt.show()"
   ]
  },
  {
   "cell_type": "markdown",
   "metadata": {},
   "source": [
    "It is more clear now.\n",
    "\n",
    "\n",
    "Creating separate models for each vector representation can be a time-consuming process. Hence,a function called `crossValidation` was developed to perform k-fold cross-validation, allowing us to obtain scores and compare these models. Additionally, F-fold cross-validation provides insights into how well the model will generalize to unseen data."
   ]
  },
  {
   "cell_type": "code",
   "execution_count": 67,
   "metadata": {},
   "outputs": [
    {
     "name": "stdout",
     "output_type": "stream",
     "text": [
      "KFold(n_splits=5, random_state=3, shuffle=True)\n"
     ]
    }
   ],
   "source": [
    "num_folds = 5\n",
    "seed = 3\n",
    "kf = KFold(n_splits= num_folds, random_state=seed, shuffle = True) # initialize a 5 fold validation\n",
    "print(kf)"
   ]
  },
  {
   "cell_type": "code",
   "execution_count": 68,
   "metadata": {},
   "outputs": [],
   "source": [
    "def evaluate(X_train,X_test,y_train, y_test,seed):\n",
    "    model = LogisticRegression(random_state=seed)\n",
    "    model.fit(X_train, y_train)\n",
    "    return model.score(X_test, y_test)"
   ]
  },
  {
   "cell_type": "code",
   "execution_count": 69,
   "metadata": {},
   "outputs": [],
   "source": [
    "%%capture\n",
    "import pandas as pd\n",
    "from sklearn.model_selection import KFold\n",
    "\n",
    "def crossValidation(weighteddata, unweighteddata, labels, num_folds=5, evaluate_function=None, doc_type='descp', seed=3):\n",
    "    \"\"\"\n",
    "    Function perform cross-validation and evaluation of weighted and unweighted language models.\n",
    "\n",
    "    \"\"\"\n",
    "    # Initialize a K-Fold cross-validator\n",
    "    kf = KFold(n_splits=num_folds, random_state=seed, shuffle=True)\n",
    "    fold = 0\n",
    "\n",
    "    # Empty DataFrame to store evaluation results\n",
    "    temp = pd.DataFrame(columns=[f'{doc_type}_weighted', f'{doc_type}_unweighted'])\n",
    "    \n",
    "    for train_index, test_index in kf.split(list(range(len(labels)))):\n",
    "\n",
    "        # train test splits of target/label\n",
    "        y_train = [labels[i] for i in train_index]\n",
    "        y_test = [labels[i] for i in test_index]\n",
    "\n",
    "        # train test splits of unweighted and weighted feature data\n",
    "        X_train_uw, X_test_uw = unweighteddata[train_index], unweighteddata[test_index]\n",
    "        temp.loc[fold, f'{doc_type}_unweighted'] = evaluate_function(X_train_uw, X_test_uw, y_train, y_test, seed) # previously build evaluate function\n",
    "\n",
    "        X_train_w, X_test_w = weighteddata[train_index], weighteddata[test_index]\n",
    "        temp.loc[fold, f'{doc_type}_weighted'] = evaluate_function(X_train_w, X_test_w, y_train, y_test, seed) \n",
    "        \n",
    "        fold += 1\n",
    "    \n",
    "    return temp\n"
   ]
  },
  {
   "cell_type": "markdown",
   "metadata": {},
   "source": [
    "##### Scenario 1: Using only the description of the job advertisement"
   ]
  },
  {
   "cell_type": "code",
   "execution_count": 70,
   "metadata": {},
   "outputs": [],
   "source": [
    "%%capture\n",
    "# \n",
    "descp_only = crossValidation(weighted_descp, unweighted_descp, labels, num_folds=5, evaluate_function=evaluate, doc_type='descp')"
   ]
  },
  {
   "cell_type": "code",
   "execution_count": 71,
   "metadata": {},
   "outputs": [
    {
     "data": {
      "text/plain": [
       "descp_weighted      0.820885\n",
       "descp_unweighted    0.804119\n",
       "dtype: object"
      ]
     },
     "execution_count": 71,
     "metadata": {},
     "output_type": "execute_result"
    }
   ],
   "source": [
    "descp_only.mean()"
   ]
  },
  {
   "cell_type": "markdown",
   "metadata": {},
   "source": [
    "In the scenario where only the description of the job advertisement is used, it's clear that the weighted representation performs better. This is evident from both the scores and the 2D t-SNE plot."
   ]
  },
  {
   "cell_type": "markdown",
   "metadata": {},
   "source": [
    "##### Scenario 2: Using only the title of the job advertisement"
   ]
  },
  {
   "cell_type": "code",
   "execution_count": 72,
   "metadata": {},
   "outputs": [],
   "source": [
    "# adding feature\n",
    "\n",
    "# reading title\n",
    "with open(\"generated_features/titles.txt\") as f:\n",
    "    tk_title = [line.strip() for line in f.read().splitlines()]"
   ]
  },
  {
   "cell_type": "code",
   "execution_count": 73,
   "metadata": {},
   "outputs": [],
   "source": [
    "tk_title = split_token(tk_title)\n",
    "# tk_title"
   ]
  },
  {
   "cell_type": "code",
   "execution_count": 74,
   "metadata": {},
   "outputs": [],
   "source": [
    "unweighted_title = docvecs(preTrainedModel,tk_title) # unweighted title"
   ]
  },
  {
   "cell_type": "code",
   "execution_count": 75,
   "metadata": {},
   "outputs": [
    {
     "data": {
      "text/plain": [
       "(776, 100)"
      ]
     },
     "execution_count": 75,
     "metadata": {},
     "output_type": "execute_result"
    }
   ],
   "source": [
    "unweighted_title.shape"
   ]
  },
  {
   "cell_type": "markdown",
   "metadata": {},
   "source": [
    "Shape is good"
   ]
  },
  {
   "cell_type": "code",
   "execution_count": 76,
   "metadata": {},
   "outputs": [
    {
     "data": {
      "image/png": "[encoded data removed]",
      "text/plain": [
       "<Figure size 640x480 with 1 Axes>"
      ]
     },
     "metadata": {},
     "output_type": "display_data"
    }
   ],
   "source": [
    "try:\n",
    "    features = unweighted_title.to_numpy() \n",
    "except:\n",
    "    features = unweighted_title\n",
    "plotTSNE(df['Industry'],features) # plot the tSNE"
   ]
  },
  {
   "cell_type": "markdown",
   "metadata": {},
   "source": [
    "It looks more scattered with too much overlapping. "
   ]
  },
  {
   "cell_type": "code",
   "execution_count": 77,
   "metadata": {},
   "outputs": [
    {
     "data": {
      "text/html": [
       "<div>\n",
       "<style scoped>\n",
       "    .dataframe tbody tr th:only-of-type {\n",
       "        vertical-align: middle;\n",
       "    }\n",
       "\n",
       "    .dataframe tbody tr th {\n",
       "        vertical-align: top;\n",
       "    }\n",
       "\n",
       "    .dataframe thead th {\n",
       "        text-align: right;\n",
       "    }\n",
       "</style>\n",
       "<table border=\"1\" class=\"dataframe\">\n",
       "  <thead>\n",
       "    <tr style=\"text-align: right;\">\n",
       "      <th></th>\n",
       "      <th>WebIndex</th>\n",
       "      <th>Target</th>\n",
       "      <th>Industry</th>\n",
       "      <th>tk_text</th>\n",
       "      <th>tk_title</th>\n",
       "    </tr>\n",
       "  </thead>\n",
       "  <tbody>\n",
       "    <tr>\n",
       "      <th>0</th>\n",
       "      <td>71185283</td>\n",
       "      <td>0</td>\n",
       "      <td>Accounting_Finance</td>\n",
       "      <td>[accountant, partqualified, south, east, londo...</td>\n",
       "      <td>[finance, accounts, asst, bromley]</td>\n",
       "    </tr>\n",
       "    <tr>\n",
       "      <th>1</th>\n",
       "      <td>71185283</td>\n",
       "      <td>0</td>\n",
       "      <td>Accounting_Finance</td>\n",
       "      <td>[hedge, fund, london, recruiting, fund, accoun...</td>\n",
       "      <td>[fund, accountant, hedge, fund]</td>\n",
       "    </tr>\n",
       "    <tr>\n",
       "      <th>2</th>\n",
       "      <td>71185283</td>\n",
       "      <td>2</td>\n",
       "      <td>Healthcare_Nursing</td>\n",
       "      <td>[exciting, arisen, establish, provider, elderl...</td>\n",
       "      <td>[deputy, home, manager]</td>\n",
       "    </tr>\n",
       "    <tr>\n",
       "      <th>3</th>\n",
       "      <td>71185283</td>\n",
       "      <td>0</td>\n",
       "      <td>Accounting_Finance</td>\n",
       "      <td>[expanding, recruiting, junior, trainee, broke...</td>\n",
       "      <td>[brokers, wanted, imediate, start]</td>\n",
       "    </tr>\n",
       "    <tr>\n",
       "      <th>4</th>\n",
       "      <td>71185283</td>\n",
       "      <td>2</td>\n",
       "      <td>Healthcare_Nursing</td>\n",
       "      <td>[rgn, nurse, hospital, fulltime, part, swiis, ...</td>\n",
       "      <td>[rgn, nurses, hospitals, penarth]</td>\n",
       "    </tr>\n",
       "  </tbody>\n",
       "</table>\n",
       "</div>"
      ],
      "text/plain": [
       "   WebIndex  Target            Industry  \\\n",
       "0  71185283       0  Accounting_Finance   \n",
       "1  71185283       0  Accounting_Finance   \n",
       "2  71185283       2  Healthcare_Nursing   \n",
       "3  71185283       0  Accounting_Finance   \n",
       "4  71185283       2  Healthcare_Nursing   \n",
       "\n",
       "                                             tk_text  \\\n",
       "0  [accountant, partqualified, south, east, londo...   \n",
       "1  [hedge, fund, london, recruiting, fund, accoun...   \n",
       "2  [exciting, arisen, establish, provider, elderl...   \n",
       "3  [expanding, recruiting, junior, trainee, broke...   \n",
       "4  [rgn, nurse, hospital, fulltime, part, swiis, ...   \n",
       "\n",
       "                             tk_title  \n",
       "0  [finance, accounts, asst, bromley]  \n",
       "1     [fund, accountant, hedge, fund]  \n",
       "2             [deputy, home, manager]  \n",
       "3  [brokers, wanted, imediate, start]  \n",
       "4   [rgn, nurses, hospitals, penarth]  "
      ]
     },
     "execution_count": 77,
     "metadata": {},
     "output_type": "execute_result"
    }
   ],
   "source": [
    "df['tk_title'] = tk_title\n",
    "df.head()"
   ]
  },
  {
   "cell_type": "code",
   "execution_count": 78,
   "metadata": {},
   "outputs": [],
   "source": [
    "# weighted model for title\n",
    "\n",
    "tfidf_matrix_title, tfidf_vocabulary_title, weighted_title = gen_WeightedModel(tk_title,preTrainedModel)"
   ]
  },
  {
   "cell_type": "code",
   "execution_count": 79,
   "metadata": {
    "scrolled": true
   },
   "outputs": [
    {
     "name": "stdout",
     "output_type": "stream",
     "text": [
      "Article tokens: ['sales', 'purchase', 'ledger', 'clerk', 'maternity', 'cover']\n",
      "--------------------------------------------\n",
      "\n",
      "Vector representation:\n",
      "\n",
      "clerk:0.3878066129863246 cover:0.4842223654341737 ledger:0.4204950194589153 maternity:0.4560225656037708 purchase:0.43601448921024916 sales:0.20063263744100798 "
     ]
    }
   ],
   "source": [
    "validator_v2(tfidf_matrix_title,tfidf_vocabulary_title,7,tk_title)"
   ]
  },
  {
   "cell_type": "markdown",
   "metadata": {},
   "source": [
    "These compact vector representations aid in visually verifying the `gen_WeightedModel` because all words in the `Article tokens` from the previous output have corresponding `Vector representation`, and vice versa."
   ]
  },
  {
   "cell_type": "code",
   "execution_count": 80,
   "metadata": {},
   "outputs": [
    {
     "data": {
      "image/png": "[encoded data removed]",
      "text/plain": [
       "<Figure size 640x480 with 1 Axes>"
      ]
     },
     "metadata": {},
     "output_type": "display_data"
    }
   ],
   "source": [
    "try:\n",
    "    features = weighted_title.to_numpy() \n",
    "except:\n",
    "    features = weighted_title\n",
    "plotTSNE(df['Industry'],features)"
   ]
  },
  {
   "cell_type": "markdown",
   "metadata": {},
   "source": [
    "Even this one is not that great"
   ]
  },
  {
   "cell_type": "code",
   "execution_count": 81,
   "metadata": {},
   "outputs": [],
   "source": [
    "%%capture\n",
    "title_only = crossValidation(weighted_title, unweighted_title, labels, num_folds=5, evaluate_function=evaluate, doc_type='title')"
   ]
  },
  {
   "cell_type": "code",
   "execution_count": 82,
   "metadata": {},
   "outputs": [
    {
     "data": {
      "text/plain": [
       "title_weighted      0.751307\n",
       "title_unweighted    0.779686\n",
       "dtype: object"
      ]
     },
     "execution_count": 82,
     "metadata": {},
     "output_type": "execute_result"
    }
   ],
   "source": [
    "title_only.mean()"
   ]
  },
  {
   "cell_type": "markdown",
   "metadata": {},
   "source": [
    "When considering only the title, the unweighted representation yields better results, possibly owing to the smaller size of title vectors. It appears that the unweighted approach is more effective for smaller-sized data."
   ]
  },
  {
   "cell_type": "markdown",
   "metadata": {},
   "source": [
    "##### Scenario 3: Using both the title and description of the job advertisement"
   ]
  },
  {
   "cell_type": "markdown",
   "metadata": {},
   "source": [
    "In this particular scenario, the vector representations of the job descriptions are merged with title vectors.\n",
    "\n",
    "Alternative approach: Concate document and title feature while feature generation (in Task 1 or earlier in task 2)"
   ]
  },
  {
   "cell_type": "markdown",
   "metadata": {},
   "source": [
    "To perform a merge, the shapes of both vectors should align. Technically, if all the previous steps are executed correctly, these shapes should be the same."
   ]
  },
  {
   "cell_type": "code",
   "execution_count": 83,
   "metadata": {},
   "outputs": [
    {
     "name": "stdout",
     "output_type": "stream",
     "text": [
      "Shape of unweighted title:  (776, 100) \n",
      "Shape of unweighted description:  (776, 100)\n"
     ]
    }
   ],
   "source": [
    "print(\"Shape of unweighted title: \",unweighted_title.shape,\"\\nShape of unweighted description: \",unweighted_descp.shape)"
   ]
  },
  {
   "cell_type": "markdown",
   "metadata": {},
   "source": [
    "As expected, they are matching :)"
   ]
  },
  {
   "cell_type": "code",
   "execution_count": 84,
   "metadata": {},
   "outputs": [],
   "source": [
    "# Merging unweighted vectors together\n",
    "unweighted_descp_title = np.concatenate([unweighted_descp,unweighted_title], axis=1)"
   ]
  },
  {
   "cell_type": "code",
   "execution_count": 85,
   "metadata": {},
   "outputs": [
    {
     "data": {
      "text/plain": [
       "(776, 200)"
      ]
     },
     "execution_count": 85,
     "metadata": {},
     "output_type": "execute_result"
    }
   ],
   "source": [
    "unweighted_descp_title.shape # shape retained"
   ]
  },
  {
   "cell_type": "code",
   "execution_count": 86,
   "metadata": {
    "scrolled": true
   },
   "outputs": [
    {
     "data": {
      "image/png": "[encoded data removed]",
      "text/plain": [
       "<Figure size 640x480 with 1 Axes>"
      ]
     },
     "metadata": {},
     "output_type": "display_data"
    }
   ],
   "source": [
    "try:\n",
    "    features = unweighted_descp_title.to_numpy() # convert the document vector dataframe to a numpy array\n",
    "except:\n",
    "    # used `docvec` so already is a numpy array\n",
    "    features = unweighted_descp_title\n",
    "plotTSNE(df['Industry'],features)"
   ]
  },
  {
   "cell_type": "markdown",
   "metadata": {},
   "source": [
    "Eventhough there are overlaps, smaller clusters are visible"
   ]
  },
  {
   "cell_type": "code",
   "execution_count": 87,
   "metadata": {},
   "outputs": [],
   "source": [
    "# merging weighted vectors\n",
    "weighted_descp_title = np.concatenate([weighted_descp, weighted_title], axis=1)"
   ]
  },
  {
   "cell_type": "code",
   "execution_count": 88,
   "metadata": {},
   "outputs": [
    {
     "data": {
      "text/plain": [
       "(776, 200)"
      ]
     },
     "execution_count": 88,
     "metadata": {},
     "output_type": "execute_result"
    }
   ],
   "source": [
    "weighted_descp_title.shape"
   ]
  },
  {
   "cell_type": "code",
   "execution_count": 89,
   "metadata": {
    "scrolled": true
   },
   "outputs": [
    {
     "data": {
      "image/png": "[encoded data removed]",
      "text/plain": [
       "<Figure size 640x480 with 1 Axes>"
      ]
     },
     "metadata": {},
     "output_type": "display_data"
    }
   ],
   "source": [
    "try:\n",
    "    features = weighted_descp_title.to_numpy()\n",
    "except:\n",
    "    features = weighted_descp_title\n",
    "plotTSNE(df['Industry'],features)"
   ]
  },
  {
   "cell_type": "markdown",
   "metadata": {},
   "source": [
    "There is some overlaps with better clusters compared to other plots "
   ]
  },
  {
   "cell_type": "code",
   "execution_count": 90,
   "metadata": {},
   "outputs": [],
   "source": [
    "%%capture\n",
    "descp_title = crossValidation(weighted_descp_title, unweighted_descp_title, labels, num_folds=5, evaluate_function=evaluate, doc_type='descp_title')"
   ]
  },
  {
   "cell_type": "code",
   "execution_count": 91,
   "metadata": {},
   "outputs": [
    {
     "data": {
      "text/plain": [
       "descp_title_weighted      0.845376\n",
       "descp_title_unweighted    0.819595\n",
       "dtype: object"
      ]
     },
     "execution_count": 91,
     "metadata": {},
     "output_type": "execute_result"
    }
   ],
   "source": [
    "descp_title.mean()"
   ]
  },
  {
   "cell_type": "markdown",
   "metadata": {},
   "source": [
    "In this context, the weighted vector representation achieved a higher score than the unweighted one, indicating its superior performance."
   ]
  },
  {
   "cell_type": "markdown",
   "metadata": {},
   "source": [
    "Let's compare all models"
   ]
  },
  {
   "cell_type": "code",
   "execution_count": 92,
   "metadata": {},
   "outputs": [],
   "source": [
    "# merging all score data frames together\n",
    "\n",
    "scores = pd.concat([descp_only, title_only, descp_title], axis=1)"
   ]
  },
  {
   "cell_type": "code",
   "execution_count": 93,
   "metadata": {
    "scrolled": true
   },
   "outputs": [
    {
     "data": {
      "text/html": [
       "<div>\n",
       "<style scoped>\n",
       "    .dataframe tbody tr th:only-of-type {\n",
       "        vertical-align: middle;\n",
       "    }\n",
       "\n",
       "    .dataframe tbody tr th {\n",
       "        vertical-align: top;\n",
       "    }\n",
       "\n",
       "    .dataframe thead th {\n",
       "        text-align: right;\n",
       "    }\n",
       "</style>\n",
       "<table border=\"1\" class=\"dataframe\">\n",
       "  <thead>\n",
       "    <tr style=\"text-align: right;\">\n",
       "      <th></th>\n",
       "      <th>descp_weighted</th>\n",
       "      <th>descp_unweighted</th>\n",
       "      <th>title_weighted</th>\n",
       "      <th>title_unweighted</th>\n",
       "      <th>descp_title_weighted</th>\n",
       "      <th>descp_title_unweighted</th>\n",
       "    </tr>\n",
       "  </thead>\n",
       "  <tbody>\n",
       "    <tr>\n",
       "      <th>0</th>\n",
       "      <td>0.814103</td>\n",
       "      <td>0.807692</td>\n",
       "      <td>0.737179</td>\n",
       "      <td>0.74359</td>\n",
       "      <td>0.833333</td>\n",
       "      <td>0.814103</td>\n",
       "    </tr>\n",
       "    <tr>\n",
       "      <th>1</th>\n",
       "      <td>0.845161</td>\n",
       "      <td>0.83871</td>\n",
       "      <td>0.787097</td>\n",
       "      <td>0.793548</td>\n",
       "      <td>0.870968</td>\n",
       "      <td>0.825806</td>\n",
       "    </tr>\n",
       "    <tr>\n",
       "      <th>2</th>\n",
       "      <td>0.845161</td>\n",
       "      <td>0.806452</td>\n",
       "      <td>0.722581</td>\n",
       "      <td>0.780645</td>\n",
       "      <td>0.832258</td>\n",
       "      <td>0.812903</td>\n",
       "    </tr>\n",
       "    <tr>\n",
       "      <th>3</th>\n",
       "      <td>0.806452</td>\n",
       "      <td>0.793548</td>\n",
       "      <td>0.729032</td>\n",
       "      <td>0.793548</td>\n",
       "      <td>0.832258</td>\n",
       "      <td>0.819355</td>\n",
       "    </tr>\n",
       "    <tr>\n",
       "      <th>4</th>\n",
       "      <td>0.793548</td>\n",
       "      <td>0.774194</td>\n",
       "      <td>0.780645</td>\n",
       "      <td>0.787097</td>\n",
       "      <td>0.858065</td>\n",
       "      <td>0.825806</td>\n",
       "    </tr>\n",
       "  </tbody>\n",
       "</table>\n",
       "</div>"
      ],
      "text/plain": [
       "  descp_weighted descp_unweighted title_weighted title_unweighted  \\\n",
       "0       0.814103         0.807692       0.737179          0.74359   \n",
       "1       0.845161          0.83871       0.787097         0.793548   \n",
       "2       0.845161         0.806452       0.722581         0.780645   \n",
       "3       0.806452         0.793548       0.729032         0.793548   \n",
       "4       0.793548         0.774194       0.780645         0.787097   \n",
       "\n",
       "  descp_title_weighted descp_title_unweighted  \n",
       "0             0.833333               0.814103  \n",
       "1             0.870968               0.825806  \n",
       "2             0.832258               0.812903  \n",
       "3             0.832258               0.819355  \n",
       "4             0.858065               0.825806  "
      ]
     },
     "execution_count": 93,
     "metadata": {},
     "output_type": "execute_result"
    }
   ],
   "source": [
    "scores"
   ]
  },
  {
   "cell_type": "code",
   "execution_count": 94,
   "metadata": {},
   "outputs": [],
   "source": [
    "overall_scores = scores.mean()"
   ]
  },
  {
   "cell_type": "code",
   "execution_count": 95,
   "metadata": {},
   "outputs": [],
   "source": [
    "overall_scores_df = pd.DataFrame(overall_scores.items(), columns=['Model', 'Score'])\n",
    "overall_scores_df = overall_scores_df.sort_values(by='Score', ascending=False) # order based on score"
   ]
  },
  {
   "cell_type": "code",
   "execution_count": 96,
   "metadata": {},
   "outputs": [
    {
     "data": {
      "text/html": [
       "<div>\n",
       "<style scoped>\n",
       "    .dataframe tbody tr th:only-of-type {\n",
       "        vertical-align: middle;\n",
       "    }\n",
       "\n",
       "    .dataframe tbody tr th {\n",
       "        vertical-align: top;\n",
       "    }\n",
       "\n",
       "    .dataframe thead th {\n",
       "        text-align: right;\n",
       "    }\n",
       "</style>\n",
       "<table border=\"1\" class=\"dataframe\">\n",
       "  <thead>\n",
       "    <tr style=\"text-align: right;\">\n",
       "      <th></th>\n",
       "      <th>Model</th>\n",
       "      <th>Score</th>\n",
       "    </tr>\n",
       "  </thead>\n",
       "  <tbody>\n",
       "    <tr>\n",
       "      <th>4</th>\n",
       "      <td>descp_title_weighted</td>\n",
       "      <td>0.845376</td>\n",
       "    </tr>\n",
       "    <tr>\n",
       "      <th>0</th>\n",
       "      <td>descp_weighted</td>\n",
       "      <td>0.820885</td>\n",
       "    </tr>\n",
       "    <tr>\n",
       "      <th>5</th>\n",
       "      <td>descp_title_unweighted</td>\n",
       "      <td>0.819595</td>\n",
       "    </tr>\n",
       "    <tr>\n",
       "      <th>1</th>\n",
       "      <td>descp_unweighted</td>\n",
       "      <td>0.804119</td>\n",
       "    </tr>\n",
       "    <tr>\n",
       "      <th>3</th>\n",
       "      <td>title_unweighted</td>\n",
       "      <td>0.779686</td>\n",
       "    </tr>\n",
       "    <tr>\n",
       "      <th>2</th>\n",
       "      <td>title_weighted</td>\n",
       "      <td>0.751307</td>\n",
       "    </tr>\n",
       "  </tbody>\n",
       "</table>\n",
       "</div>"
      ],
      "text/plain": [
       "                    Model     Score\n",
       "4    descp_title_weighted  0.845376\n",
       "0          descp_weighted  0.820885\n",
       "5  descp_title_unweighted  0.819595\n",
       "1        descp_unweighted  0.804119\n",
       "3        title_unweighted  0.779686\n",
       "2          title_weighted  0.751307"
      ]
     },
     "execution_count": 96,
     "metadata": {},
     "output_type": "execute_result"
    }
   ],
   "source": [
    "overall_scores_df "
   ]
  },
  {
   "cell_type": "code",
   "execution_count": 97,
   "metadata": {},
   "outputs": [
    {
     "name": "stdout",
     "output_type": "stream",
     "text": [
      "Best performing model is:  descp_title_weighted\n"
     ]
    }
   ],
   "source": [
    "winner = scores.mean().idxmax()\n",
    "print(\"Best performing model is: \",winner)"
   ]
  },
  {
   "cell_type": "markdown",
   "metadata": {},
   "source": [
    "### Saving Model for web application)"
   ]
  },
  {
   "cell_type": "code",
   "execution_count": 98,
   "metadata": {},
   "outputs": [],
   "source": [
    "# Doc vector save\n",
    "\n",
    "preTrainedModel.save('generated_model/glove.model')\n",
    "\n",
    "# can test \n",
    "\n",
    "# from gensim.models import KeyedVectors\n",
    "# g_model = KeyedVectors.load(\"glove.model\")\n",
    "\n",
    "# docvecs(g_model, [['hospital', 'nurse', 'care', 'hospital', 'nurse', 'care', 'hospital', 'nurse', 'care', 'hospital', 'nurse', 'care', 'hospital', 'nurse', 'care', 'hospital', 'nurse', 'care', 'hospital', 'nurse', 'care', 'hospital', 'nurse', 'care', 'hospital', 'nurse', 'care', 'hospital', 'nurse', 'care', 'hospital', 'nurse', 'care', 'hospital', 'nurse', 'care', 'hospital', 'nurse', 'care', 'hospital', 'nurse', 'care', 'hospital', 'nurse', 'care', 'hospital', 'nurse', 'care', 'hospital', 'nurse', 'care', '']])"
   ]
  },
  {
   "cell_type": "code",
   "execution_count": 99,
   "metadata": {},
   "outputs": [
    {
     "name": "stderr",
     "output_type": "stream",
     "text": [
      "C:\\Users\\skish\\AppData\\Local\\Programs\\Python\\Python310\\lib\\site-packages\\sklearn\\linear_model\\_logistic.py:460: ConvergenceWarning: lbfgs failed to converge (status=1):\n",
      "STOP: TOTAL NO. of ITERATIONS REACHED LIMIT.\n",
      "\n",
      "Increase the number of iterations (max_iter) or scale the data as shown in:\n",
      "    https://scikit-learn.org/stable/modules/preprocessing.html\n",
      "Please also refer to the documentation for alternative solver options:\n",
      "    https://scikit-learn.org/stable/modules/linear_model.html#logistic-regression\n",
      "  n_iter_i = _check_optimize_result(\n"
     ]
    },
    {
     "data": {
      "text/plain": [
       "0.8054474708171206"
      ]
     },
     "execution_count": 99,
     "metadata": {},
     "output_type": "execute_result"
    }
   ],
   "source": [
    "from sklearn.linear_model import LogisticRegression\n",
    "from sklearn.metrics import accuracy_score\n",
    "X_train, X_test, y_train, y_test = train_test_split(weighted_descp, df['Industry'],test_size=0.33, random_state=1)\n",
    "model = LogisticRegression(random_state=1) # # Initialize logical regression\n",
    "model.fit(X_train, y_train)\n",
    "y_pred = model.predict(X_test) # predict\n",
    "accuracy_score(y_test, y_pred)"
   ]
  },
  {
   "cell_type": "code",
   "execution_count": 100,
   "metadata": {},
   "outputs": [
    {
     "data": {
      "text/plain": [
       "['logistic_regression_model.pkl']"
      ]
     },
     "execution_count": 100,
     "metadata": {},
     "output_type": "execute_result"
    }
   ],
   "source": [
    "import joblib\n",
    "joblib.dump(model, 'generated_model/logistic_regression_model.pkl')"
   ]
  },
  {
   "cell_type": "markdown",
   "metadata": {},
   "source": [
    "## Summary\n",
    "\n",
    "This document explores job advertisement text analysis, where Task 2 involves creating varied feature representations for job descriptions, including Count vectors and TF-IDF weighted vectors. Task 3 focuses on categorizing job advertisements using logistic regression and assesses language model and feature representation performance. Additionally, it investigates the impact of including extra information like job titles. The document aims to uncover optimal strategies for job advertisement categorization and emphasizes the importance of feature selection in text analysis. Notably, the results indicate that adding extra information has proven to be effective in enhancing model accuracy.\n",
    "\n",
    "\n",
    "<p style=\"font-size:12px;\">Note: The performance results presented here are specific to the given dataset and the generated models. Different models may perform differently when additional features or different datasets are considered. It's essential to assess model performance carefully in various contexts and datasets to make informed decisions</p>"
   ]
  },
  {
   "cell_type": "markdown",
   "metadata": {},
   "source": [
    "As the `descp_title_weighted` has clear advantage and both `descp_weighted` and `descp_title_unweighted` are almost comparble. So for the models in this project adding extra information has proven to be effective in enhancing model accuracy"
   ]
  },
  {
   "cell_type": "markdown",
   "metadata": {},
   "source": [
    "## Acknowledgements\n",
    "\n",
    "Some of the code (functions) are used (with modification) from weekly (week 7 to week 9) activity notebooks and lab notebooks"
   ]
  },
  {
   "cell_type": "markdown",
   "metadata": {},
   "source": [
    "## References\n",
    "[1]The Coding Train, “12.2: Color Vectors - Programming with Text,” www.youtube.com, Oct. 21, 2018. https://www.youtube.com/watch?v=mI23bDF0VRI (accessed Sep. 30, 2023).\n",
    "\n",
    "[2]aparrish, “Understanding Word Vectors,” GitHub Gist. https://gist.github.com/aparrish/2f562e3737544cf29aaf1af30362f469 (accessed Sep. 30, 2023).\n",
    "\n",
    "[3] Week7, Week8, Week9 codes and ideas from both activity and lab materials"
   ]
  }
 ],
 "metadata": {
  "kernelspec": {
   "display_name": "Python 3 (ipykernel)",
   "language": "python",
   "name": "python3"
  },
  "language_info": {
   "codemirror_mode": {
    "name": "ipython",
    "version": 3
   },
   "file_extension": ".py",
   "mimetype": "text/x-python",
   "name": "python",
   "nbconvert_exporter": "python",
   "pygments_lexer": "ipython3",
   "version": "3.10.0"
  }
 },
 "nbformat": 4,
 "nbformat_minor": 4
}
